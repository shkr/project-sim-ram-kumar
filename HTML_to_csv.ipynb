{
 "cells": [
  {
   "cell_type": "code",
   "execution_count": 29,
   "metadata": {},
   "outputs": [],
   "source": [
    "import pandas as pd\n",
    "import numpy as np\n",
    "import tensorflow as tf\n",
    "import matplotlib.pyplot as plt\n",
    "%matplotlib inline\n",
    "\n",
    "from bs4 import BeautifulSoup\n",
    "from functools import reduce\n",
    "\n"
   ]
  },
  {
   "cell_type": "code",
   "execution_count": 30,
   "metadata": {},
   "outputs": [],
   "source": [
    "import os"
   ]
  },
  {
   "cell_type": "markdown",
   "metadata": {},
   "source": [
    "\n",
    "## Lets Check a HTML and try extract text out of it"
   ]
  },
  {
   "cell_type": "code",
   "execution_count": null,
   "metadata": {},
   "outputs": [],
   "source": []
  },
  {
   "cell_type": "code",
   "execution_count": 35,
   "metadata": {},
   "outputs": [
    {
     "name": "stdout",
     "output_type": "stream",
     "text": [
      "Aagenaes syndrome - Wikipedia, the free encyclopedia  Aagenaes syndrome is a syndrome characterised by congenital hypoplasia of lymph vessels, which causes lymphedema of the legs and recurrent cholestasis in infancy, and slow progress to hepatic cirrhosis and giant cell hepatitis with fibrosis of the portal tracts.[1][2] The genetic cause is unknown, but it is autosomal recessively inherited and the gene is located to chromosome 15q1,2. A common feature of the condition is a generalised lymphatic anomaly, which may be indicative of the defect being lymphangiogenetic in origin1. The condition is particularly frequent in southern Norway, where more than half the cases are reported from, but is found in patients in other parts of Europe and the U.S..[3] It is named after Oystein Aagenaes, a Norwegian paediatrician. It is also called cholestasis-lymphedema syndrome (CLS).[4] \n"
     ]
    }
   ],
   "source": [
    "\n",
    "with open(\"./input/positive/Aagenaes_syndrome\") as fp:\n",
    "    soup = BeautifulSoup(fp, 'html.parser')\n",
    "    title =  soup.title.get_text()\n",
    "    p_g = soup.find_all('p')\n",
    "    content = reduce((lambda x, y: x +\" \"+  y.text), p_g, \"\") \n",
    "    \n",
    "print(title, content)\n"
   ]
  },
  {
   "cell_type": "code",
   "execution_count": 58,
   "metadata": {},
   "outputs": [],
   "source": [
    "# returns the text extracted from the wiki pedia HTML file\n",
    "def read_text(file_path):\n",
    "    title = \"\"\n",
    "    content = \"\"\n",
    "    with open(file_path) as fp:\n",
    "        soup = BeautifulSoup(fp, 'html.parser')\n",
    "        \n",
    "        if soup.title:\n",
    "            title =  soup.title.get_text()\n",
    "        p_g = soup.find_all('p')\n",
    "        content = reduce((lambda x, y: x +\" \"+  y.text), p_g, \"\") \n",
    "    \n",
    "    return { 'title': title ,'content': content}"
   ]
  },
  {
   "cell_type": "markdown",
   "metadata": {},
   "source": [
    "## Lets Extract the postive samples"
   ]
  },
  {
   "cell_type": "code",
   "execution_count": 48,
   "metadata": {},
   "outputs": [],
   "source": []
  },
  {
   "cell_type": "code",
   "execution_count": 52,
   "metadata": {},
   "outputs": [],
   "source": [
    "positive_directory = os.fsencode('./input/positive')\n",
    "negative_directory = os.fsencode('./input/negative')\n"
   ]
  },
  {
   "cell_type": "code",
   "execution_count": null,
   "metadata": {},
   "outputs": [],
   "source": [
    "# Checking listdir flow \n",
    "# file = os.listdir(postive_directory)[0]\n",
    "# print(os.path.join(postive_directory, file))\n",
    "# read_text(os.path.join(postive_directory, file)) "
   ]
  },
  {
   "cell_type": "code",
   "execution_count": 61,
   "metadata": {},
   "outputs": [],
   "source": [
    "def extract_articles_into_df(directory, article_type):\n",
    "    article_title = []\n",
    "    article_content = []\n",
    "    y = []\n",
    "\n",
    "    for file in os.listdir(directory):\n",
    "        file_path = os.path.join(directory, file)\n",
    "        extracted_text = read_text(file_path) \n",
    "        article_title.append(extracted_text['title'])\n",
    "        article_content.append(extracted_text['content'])\n",
    "        y.append(article_type)\n",
    "    \n",
    "    dict_frame = { 'article_title': article_title, 'article_content':article_content, 'y': y}\n",
    "    df = pd.DataFrame(dict_frame)\n",
    "    return df\n",
    "    "
   ]
  },
  {
   "cell_type": "code",
   "execution_count": 62,
   "metadata": {},
   "outputs": [],
   "source": [
    "positive_df = extract_articles_into_df(positive_directory, 1)"
   ]
  },
  {
   "cell_type": "code",
   "execution_count": 63,
   "metadata": {},
   "outputs": [
    {
     "data": {
      "text/html": [
       "<div>\n",
       "<style scoped>\n",
       "    .dataframe tbody tr th:only-of-type {\n",
       "        vertical-align: middle;\n",
       "    }\n",
       "\n",
       "    .dataframe tbody tr th {\n",
       "        vertical-align: top;\n",
       "    }\n",
       "\n",
       "    .dataframe thead th {\n",
       "        text-align: right;\n",
       "    }\n",
       "</style>\n",
       "<table border=\"1\" class=\"dataframe\">\n",
       "  <thead>\n",
       "    <tr style=\"text-align: right;\">\n",
       "      <th></th>\n",
       "      <th>article_content</th>\n",
       "      <th>article_title</th>\n",
       "      <th>y</th>\n",
       "    </tr>\n",
       "  </thead>\n",
       "  <tbody>\n",
       "    <tr>\n",
       "      <td>0</td>\n",
       "      <td>Peripheral neuropathy (PN) is damage to or di...</td>\n",
       "      <td>Peripheral neuropathy - Wikipedia, the free en...</td>\n",
       "      <td>1</td>\n",
       "    </tr>\n",
       "    <tr>\n",
       "      <td>1</td>\n",
       "      <td>Colorado tick fever (CTF) (also called mounta...</td>\n",
       "      <td>Colorado tick fever - Wikipedia, the free ency...</td>\n",
       "      <td>1</td>\n",
       "    </tr>\n",
       "    <tr>\n",
       "      <td>2</td>\n",
       "      <td>Rosselli–Gulienetti syndrome,[1] also known a...</td>\n",
       "      <td>Rosselli–Gulienetti syndrome - Wikipedia, the ...</td>\n",
       "      <td>1</td>\n",
       "    </tr>\n",
       "    <tr>\n",
       "      <td>3</td>\n",
       "      <td>Johanson–Blizzard syndrome (JBS) is a rare, s...</td>\n",
       "      <td>Johanson–Blizzard syndrome - Wikipedia, the fr...</td>\n",
       "      <td>1</td>\n",
       "    </tr>\n",
       "    <tr>\n",
       "      <td>4</td>\n",
       "      <td>DiGeorge syndrome[2] also known as 22q11.2 de...</td>\n",
       "      <td>DiGeorge syndrome - Wikipedia, the free encycl...</td>\n",
       "      <td>1</td>\n",
       "    </tr>\n",
       "  </tbody>\n",
       "</table>\n",
       "</div>"
      ],
      "text/plain": [
       "                                     article_content  \\\n",
       "0   Peripheral neuropathy (PN) is damage to or di...   \n",
       "1   Colorado tick fever (CTF) (also called mounta...   \n",
       "2   Rosselli–Gulienetti syndrome,[1] also known a...   \n",
       "3   Johanson–Blizzard syndrome (JBS) is a rare, s...   \n",
       "4   DiGeorge syndrome[2] also known as 22q11.2 de...   \n",
       "\n",
       "                                       article_title  y  \n",
       "0  Peripheral neuropathy - Wikipedia, the free en...  1  \n",
       "1  Colorado tick fever - Wikipedia, the free ency...  1  \n",
       "2  Rosselli–Gulienetti syndrome - Wikipedia, the ...  1  \n",
       "3  Johanson–Blizzard syndrome - Wikipedia, the fr...  1  \n",
       "4  DiGeorge syndrome - Wikipedia, the free encycl...  1  "
      ]
     },
     "execution_count": 63,
     "metadata": {},
     "output_type": "execute_result"
    }
   ],
   "source": [
    "positive_df.head()"
   ]
  },
  {
   "cell_type": "code",
   "execution_count": 64,
   "metadata": {},
   "outputs": [],
   "source": [
    "positive_df.to_csv('./input/positive.csv', header=True, index=False)"
   ]
  },
  {
   "cell_type": "code",
   "execution_count": 65,
   "metadata": {},
   "outputs": [],
   "source": [
    "positive_combined_series = positive_df['article_title'] +  positive_df['article_content']"
   ]
  },
  {
   "cell_type": "code",
   "execution_count": 76,
   "metadata": {},
   "outputs": [
    {
     "data": {
      "text/html": [
       "<div>\n",
       "<style scoped>\n",
       "    .dataframe tbody tr th:only-of-type {\n",
       "        vertical-align: middle;\n",
       "    }\n",
       "\n",
       "    .dataframe tbody tr th {\n",
       "        vertical-align: top;\n",
       "    }\n",
       "\n",
       "    .dataframe thead th {\n",
       "        text-align: right;\n",
       "    }\n",
       "</style>\n",
       "<table border=\"1\" class=\"dataframe\">\n",
       "  <thead>\n",
       "    <tr style=\"text-align: right;\">\n",
       "      <th></th>\n",
       "      <th>article</th>\n",
       "      <th>y</th>\n",
       "    </tr>\n",
       "  </thead>\n",
       "  <tbody>\n",
       "    <tr>\n",
       "      <td>0</td>\n",
       "      <td>Peripheral neuropathy - Wikipedia, the free en...</td>\n",
       "      <td>1</td>\n",
       "    </tr>\n",
       "    <tr>\n",
       "      <td>1</td>\n",
       "      <td>Colorado tick fever - Wikipedia, the free ency...</td>\n",
       "      <td>1</td>\n",
       "    </tr>\n",
       "    <tr>\n",
       "      <td>2</td>\n",
       "      <td>Rosselli–Gulienetti syndrome - Wikipedia, the ...</td>\n",
       "      <td>1</td>\n",
       "    </tr>\n",
       "    <tr>\n",
       "      <td>3</td>\n",
       "      <td>Johanson–Blizzard syndrome - Wikipedia, the fr...</td>\n",
       "      <td>1</td>\n",
       "    </tr>\n",
       "    <tr>\n",
       "      <td>4</td>\n",
       "      <td>DiGeorge syndrome - Wikipedia, the free encycl...</td>\n",
       "      <td>1</td>\n",
       "    </tr>\n",
       "  </tbody>\n",
       "</table>\n",
       "</div>"
      ],
      "text/plain": [
       "                                             article  y\n",
       "0  Peripheral neuropathy - Wikipedia, the free en...  1\n",
       "1  Colorado tick fever - Wikipedia, the free ency...  1\n",
       "2  Rosselli–Gulienetti syndrome - Wikipedia, the ...  1\n",
       "3  Johanson–Blizzard syndrome - Wikipedia, the fr...  1\n",
       "4  DiGeorge syndrome - Wikipedia, the free encycl...  1"
      ]
     },
     "execution_count": 76,
     "metadata": {},
     "output_type": "execute_result"
    }
   ],
   "source": [
    "positive_combined_df = pd.DataFrame({'article': positive_combined_series, 'y' : positive_df['y']})\n",
    "positive_combined_df.head()"
   ]
  },
  {
   "cell_type": "code",
   "execution_count": 77,
   "metadata": {},
   "outputs": [],
   "source": [
    "positive_combined_df.to_csv('./input/positive-combined.csv', header=True, index=False)"
   ]
  },
  {
   "cell_type": "code",
   "execution_count": 70,
   "metadata": {},
   "outputs": [],
   "source": [
    "negative_df = extract_articles_into_df(negative_directory, 0)"
   ]
  },
  {
   "cell_type": "code",
   "execution_count": 71,
   "metadata": {},
   "outputs": [],
   "source": [
    "negative_df.to_csv('./input/negative.csv', header=True, index=False)"
   ]
  },
  {
   "cell_type": "code",
   "execution_count": 72,
   "metadata": {},
   "outputs": [],
   "source": [
    "negative_combined_series = negative_df['article_title'] +  negative_df['article_content']"
   ]
  },
  {
   "cell_type": "code",
   "execution_count": 78,
   "metadata": {},
   "outputs": [],
   "source": [
    "negative_combined_df = pd.DataFrame({'article': negative_combined_series, 'y': negative_df['y'] })\n",
    "negative_combined_df.to_csv('./input/negative-combined.csv', header=True, index=False)"
   ]
  },
  {
   "cell_type": "code",
   "execution_count": 79,
   "metadata": {},
   "outputs": [
    {
     "data": {
      "text/html": [
       "<div>\n",
       "<style scoped>\n",
       "    .dataframe tbody tr th:only-of-type {\n",
       "        vertical-align: middle;\n",
       "    }\n",
       "\n",
       "    .dataframe tbody tr th {\n",
       "        vertical-align: top;\n",
       "    }\n",
       "\n",
       "    .dataframe thead th {\n",
       "        text-align: right;\n",
       "    }\n",
       "</style>\n",
       "<table border=\"1\" class=\"dataframe\">\n",
       "  <thead>\n",
       "    <tr style=\"text-align: right;\">\n",
       "      <th></th>\n",
       "      <th>article</th>\n",
       "      <th>y</th>\n",
       "    </tr>\n",
       "  </thead>\n",
       "  <tbody>\n",
       "    <tr>\n",
       "      <td>0</td>\n",
       "      <td>Vihti - Wikipedia, the free encyclopedia Vihti...</td>\n",
       "      <td>0</td>\n",
       "    </tr>\n",
       "    <tr>\n",
       "      <td>1</td>\n",
       "      <td>Javad Yasari - Wikipedia, the free encyclopedi...</td>\n",
       "      <td>0</td>\n",
       "    </tr>\n",
       "    <tr>\n",
       "      <td>2</td>\n",
       "      <td>Hey, Look Me Over (M*A*S*H episode) - Wikipedi...</td>\n",
       "      <td>0</td>\n",
       "    </tr>\n",
       "    <tr>\n",
       "      <td>3</td>\n",
       "      <td>Ayreon - Wikipedia, the free encyclopedia Ayre...</td>\n",
       "      <td>0</td>\n",
       "    </tr>\n",
       "    <tr>\n",
       "      <td>4</td>\n",
       "      <td>Hifikepunye Pohamba - Wikipedia, the free ency...</td>\n",
       "      <td>0</td>\n",
       "    </tr>\n",
       "  </tbody>\n",
       "</table>\n",
       "</div>"
      ],
      "text/plain": [
       "                                             article  y\n",
       "0  Vihti - Wikipedia, the free encyclopedia Vihti...  0\n",
       "1  Javad Yasari - Wikipedia, the free encyclopedi...  0\n",
       "2  Hey, Look Me Over (M*A*S*H episode) - Wikipedi...  0\n",
       "3  Ayreon - Wikipedia, the free encyclopedia Ayre...  0\n",
       "4  Hifikepunye Pohamba - Wikipedia, the free ency...  0"
      ]
     },
     "execution_count": 79,
     "metadata": {},
     "output_type": "execute_result"
    }
   ],
   "source": [
    "negative_combined_df.head()"
   ]
  },
  {
   "cell_type": "code",
   "execution_count": null,
   "metadata": {},
   "outputs": [],
   "source": []
  }
 ],
 "metadata": {
  "kernelspec": {
   "display_name": "Python 3",
   "language": "python",
   "name": "python3"
  },
  "language_info": {
   "codemirror_mode": {
    "name": "ipython",
    "version": 3
   },
   "file_extension": ".py",
   "mimetype": "text/x-python",
   "name": "python",
   "nbconvert_exporter": "python",
   "pygments_lexer": "ipython3",
   "version": "3.5.3"
  }
 },
 "nbformat": 4,
 "nbformat_minor": 4
}
